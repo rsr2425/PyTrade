{
 "cells": [
  {
   "cell_type": "code",
   "execution_count": 4,
   "metadata": {},
   "outputs": [],
   "source": [
    "from coinbase.wallet.client import Client\n",
    "from secret import api_key, api_secret\n",
    "\n",
    "import json"
   ]
  },
  {
   "cell_type": "code",
   "execution_count": 5,
   "metadata": {},
   "outputs": [],
   "source": [
    "client = Client(api_key, api_secret)"
   ]
  },
  {
   "cell_type": "code",
   "execution_count": 8,
   "metadata": {},
   "outputs": [
    {
     "data": {
      "text/plain": [
       "{'amount': '301.27', 'base': 'ETH', 'currency': 'USD'}"
      ]
     },
     "execution_count": 8,
     "metadata": {},
     "output_type": "execute_result"
    }
   ],
   "source": [
    "res = client.get_spot_price(currency_pair='ETH-USD')\n",
    "data = json.loads(str(res))\n",
    "data"
   ]
  },
  {
   "cell_type": "code",
   "execution_count": 9,
   "metadata": {},
   "outputs": [
    {
     "data": {
      "text/plain": [
       "['API_VERSION',\n",
       " 'BASE_API_URI',\n",
       " 'VERIFY_SSL',\n",
       " '__class__',\n",
       " '__delattr__',\n",
       " '__dict__',\n",
       " '__dir__',\n",
       " '__doc__',\n",
       " '__eq__',\n",
       " '__format__',\n",
       " '__ge__',\n",
       " '__getattribute__',\n",
       " '__gt__',\n",
       " '__hash__',\n",
       " '__init__',\n",
       " '__init_subclass__',\n",
       " '__le__',\n",
       " '__lt__',\n",
       " '__module__',\n",
       " '__ne__',\n",
       " '__new__',\n",
       " '__reduce__',\n",
       " '__reduce_ex__',\n",
       " '__repr__',\n",
       " '__setattr__',\n",
       " '__sizeof__',\n",
       " '__str__',\n",
       " '__subclasshook__',\n",
       " '__weakref__',\n",
       " '_build_session',\n",
       " '_create_api_uri',\n",
       " '_delete',\n",
       " '_get',\n",
       " '_handle_response',\n",
       " '_make_api_object',\n",
       " '_post',\n",
       " '_put',\n",
       " '_request',\n",
       " 'buy',\n",
       " 'cached_callback_public_key',\n",
       " 'callback_public_key',\n",
       " 'cancel_request',\n",
       " 'commit_buy',\n",
       " 'commit_deposit',\n",
       " 'commit_sell',\n",
       " 'commit_withdrawal',\n",
       " 'complete_request',\n",
       " 'create_account',\n",
       " 'create_address',\n",
       " 'create_checkout',\n",
       " 'create_checkout_order',\n",
       " 'create_order',\n",
       " 'create_report',\n",
       " 'delete_account',\n",
       " 'deposit',\n",
       " 'get_account',\n",
       " 'get_accounts',\n",
       " 'get_address',\n",
       " 'get_address_transactions',\n",
       " 'get_addresses',\n",
       " 'get_auth_info',\n",
       " 'get_buy',\n",
       " 'get_buy_price',\n",
       " 'get_buys',\n",
       " 'get_checkout',\n",
       " 'get_checkout_orders',\n",
       " 'get_checkouts',\n",
       " 'get_currencies',\n",
       " 'get_current_user',\n",
       " 'get_deposit',\n",
       " 'get_deposits',\n",
       " 'get_exchange_rates',\n",
       " 'get_historic_prices',\n",
       " 'get_merchant',\n",
       " 'get_notification',\n",
       " 'get_notifications',\n",
       " 'get_order',\n",
       " 'get_orders',\n",
       " 'get_payment_method',\n",
       " 'get_payment_methods',\n",
       " 'get_primary_account',\n",
       " 'get_report',\n",
       " 'get_reports',\n",
       " 'get_sell',\n",
       " 'get_sell_price',\n",
       " 'get_sells',\n",
       " 'get_spot_price',\n",
       " 'get_time',\n",
       " 'get_transaction',\n",
       " 'get_transactions',\n",
       " 'get_user',\n",
       " 'get_withdrawal',\n",
       " 'get_withdrawals',\n",
       " 'refund_order',\n",
       " 'request_money',\n",
       " 'resend_request',\n",
       " 'sell',\n",
       " 'send_money',\n",
       " 'session',\n",
       " 'set_primary_account',\n",
       " 'transfer_money',\n",
       " 'update_account',\n",
       " 'update_current_user',\n",
       " 'verify_callback',\n",
       " 'withdraw']"
      ]
     },
     "execution_count": 9,
     "metadata": {},
     "output_type": "execute_result"
    }
   ],
   "source": [
    "dir(client)"
   ]
  },
  {
   "cell_type": "code",
   "execution_count": 10,
   "metadata": {},
   "outputs": [
    {
     "ename": "TypeError",
     "evalue": "get_report() missing 1 required positional argument: 'report_id'",
     "output_type": "error",
     "traceback": [
      "\u001b[0;31m---------------------------------------------------------------------------\u001b[0m",
      "\u001b[0;31mTypeError\u001b[0m                                 Traceback (most recent call last)",
      "\u001b[0;32m<ipython-input-10-fe84b13709e6>\u001b[0m in \u001b[0;36m<module>\u001b[0;34m()\u001b[0m\n\u001b[0;32m----> 1\u001b[0;31m \u001b[0mres\u001b[0m \u001b[0;34m=\u001b[0m \u001b[0mclient\u001b[0m\u001b[0;34m.\u001b[0m\u001b[0mget_report\u001b[0m\u001b[0;34m(\u001b[0m\u001b[0mcurrency_pair\u001b[0m\u001b[0;34m=\u001b[0m\u001b[0;34m'ETH-USD'\u001b[0m\u001b[0;34m)\u001b[0m\u001b[0;34m\u001b[0m\u001b[0m\n\u001b[0m\u001b[1;32m      2\u001b[0m \u001b[0mdata\u001b[0m \u001b[0;34m=\u001b[0m \u001b[0mjson\u001b[0m\u001b[0;34m.\u001b[0m\u001b[0mloads\u001b[0m\u001b[0;34m(\u001b[0m\u001b[0mstr\u001b[0m\u001b[0;34m(\u001b[0m\u001b[0mres\u001b[0m\u001b[0;34m)\u001b[0m\u001b[0;34m)\u001b[0m\u001b[0;34m\u001b[0m\u001b[0m\n\u001b[1;32m      3\u001b[0m \u001b[0mdata\u001b[0m\u001b[0;34m\u001b[0m\u001b[0m\n",
      "\u001b[0;31mTypeError\u001b[0m: get_report() missing 1 required positional argument: 'report_id'"
     ]
    }
   ],
   "source": [
    "res = client.get_report(currency_pair='ETH-USD')\n",
    "data = json.loads(str(res))\n",
    "data"
   ]
  },
  {
   "cell_type": "code",
   "execution_count": null,
   "metadata": {},
   "outputs": [],
   "source": []
  }
 ],
 "metadata": {
  "kernelspec": {
   "display_name": "Python 3",
   "language": "python",
   "name": "python3"
  },
  "language_info": {
   "codemirror_mode": {
    "name": "ipython",
    "version": 3
   },
   "file_extension": ".py",
   "mimetype": "text/x-python",
   "name": "python",
   "nbconvert_exporter": "python",
   "pygments_lexer": "ipython3",
   "version": "3.7.0"
  }
 },
 "nbformat": 4,
 "nbformat_minor": 2
}
