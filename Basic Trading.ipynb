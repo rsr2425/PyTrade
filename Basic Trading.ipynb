{
 "cells": [
  {
   "cell_type": "markdown",
   "metadata": {},
   "source": [
    "First, I need to try and figure out a way to download data from coinbase."
   ]
  },
  {
   "cell_type": "code",
   "execution_count": 39,
   "metadata": {},
   "outputs": [],
   "source": [
    "from secret import api_key, api_secret\n",
    "\n",
    "from coinbase.wallet.client import Client\n",
    "from time import sleep\n",
    "\n",
    "import json\n",
    "import numpy as np"
   ]
  },
  {
   "cell_type": "code",
   "execution_count": 8,
   "metadata": {},
   "outputs": [],
   "source": [
    "client = Client(api_key, api_secret)"
   ]
  },
  {
   "cell_type": "code",
   "execution_count": 11,
   "metadata": {},
   "outputs": [
    {
     "data": {
      "text/plain": [
       "<APIObject @ 0x1107d1db0> {\n",
       "  \"amount\": \"448.57\",\n",
       "  \"base\": \"ETH\",\n",
       "  \"currency\": \"USD\"\n",
       "}"
      ]
     },
     "execution_count": 11,
     "metadata": {},
     "output_type": "execute_result"
    }
   ],
   "source": [
    "client.get_spot_price(currency_pair = 'ETH-USD')"
   ]
  },
  {
   "cell_type": "code",
   "execution_count": 15,
   "metadata": {},
   "outputs": [
    {
     "name": "stdout",
     "output_type": "stream",
     "text": [
      "1\n",
      "{\n",
      "  \"amount\": \"448.39\",\n",
      "  \"base\": \"ETH\",\n",
      "  \"currency\": \"USD\"\n",
      "}\n",
      "2\n",
      "{\n",
      "  \"amount\": \"448.24\",\n",
      "  \"base\": \"ETH\",\n",
      "  \"currency\": \"USD\"\n",
      "}\n",
      "3\n",
      "{\n",
      "  \"amount\": \"447.41\",\n",
      "  \"base\": \"ETH\",\n",
      "  \"currency\": \"USD\"\n",
      "}\n"
     ]
    },
    {
     "ename": "KeyboardInterrupt",
     "evalue": "",
     "output_type": "error",
     "traceback": [
      "\u001b[0;31m---------------------------------------------------------------------------\u001b[0m",
      "\u001b[0;31mKeyboardInterrupt\u001b[0m                         Traceback (most recent call last)",
      "\u001b[0;32m<ipython-input-15-044bc444f98e>\u001b[0m in \u001b[0;36m<module>\u001b[0;34m()\u001b[0m\n\u001b[1;32m      4\u001b[0m     \u001b[0mprint\u001b[0m\u001b[0;34m(\u001b[0m\u001b[0mclient\u001b[0m\u001b[0;34m.\u001b[0m\u001b[0mget_spot_price\u001b[0m\u001b[0;34m(\u001b[0m\u001b[0mcurrency_pair\u001b[0m \u001b[0;34m=\u001b[0m \u001b[0;34m'ETH-USD'\u001b[0m\u001b[0;34m)\u001b[0m\u001b[0;34m)\u001b[0m\u001b[0;34m\u001b[0m\u001b[0m\n\u001b[1;32m      5\u001b[0m     \u001b[0mtotal\u001b[0m \u001b[0;34m+=\u001b[0m \u001b[0;36m1\u001b[0m\u001b[0;34m\u001b[0m\u001b[0m\n\u001b[0;32m----> 6\u001b[0;31m     \u001b[0msleep\u001b[0m\u001b[0;34m(\u001b[0m\u001b[0;36m60\u001b[0m\u001b[0;34m)\u001b[0m\u001b[0;34m\u001b[0m\u001b[0m\n\u001b[0m",
      "\u001b[0;31mKeyboardInterrupt\u001b[0m: "
     ]
    }
   ],
   "source": [
    "t = 1\n",
    "act = 10**6\n",
    "unit = 1\n",
    "thres = 1\n",
    "last = 0\n",
    "\n",
    "while True:\n",
    "    print(f'timestep: {t}, account: ${act}')\n",
    "    print(client.get_spot_price(currency_pair = 'ETH-USD'))\n",
    "    if \n",
    "    \n",
    "    \n",
    "    t += 1\n",
    "    sleep(60)"
   ]
  },
  {
   "cell_type": "code",
   "execution_count": 16,
   "metadata": {},
   "outputs": [],
   "source": [
    "res = client.get_spot_price(currency_pair = 'ETH-USD')"
   ]
  },
  {
   "cell_type": "code",
   "execution_count": 20,
   "metadata": {},
   "outputs": [
    {
     "data": {
      "text/plain": [
       "'448.67'"
      ]
     },
     "execution_count": 20,
     "metadata": {},
     "output_type": "execute_result"
    }
   ],
   "source": [
    "import json\n",
    "data = json.loads(str(res))\n",
    "data['amount']"
   ]
  },
  {
   "cell_type": "markdown",
   "metadata": {},
   "source": [
    "Now we're going to implement a very simple trading strategy where we assume that there is no transaction costs.  basicallly, you trade against the movements of the currency."
   ]
  },
  {
   "cell_type": "code",
   "execution_count": 27,
   "metadata": {},
   "outputs": [
    {
     "name": "stdout",
     "output_type": "stream",
     "text": [
      "timestep: 1, spot price: 452.97, account: ${'dol': 1000000, 'eth': 0, 'net': 1000000.0}\n",
      "timestep: 2, spot price: 453.56, account: ${'dol': 1000000, 'eth': 0, 'net': 1000000.0}\n",
      "timestep: 3, spot price: 452.74, account: ${'dol': 995472.6, 'eth': 10, 'net': 1000000.0}\n",
      "timestep: 4, spot price: 453.17, account: ${'dol': 995472.6, 'eth': 10, 'net': 1000004.2999999999}\n",
      "timestep: 5, spot price: 453.44, account: ${'dol': 995472.6, 'eth': 10, 'net': 1000007.0}\n",
      "timestep: 6, spot price: 453.27, account: ${'dol': 990939.9, 'eth': 20, 'net': 1000005.3}\n",
      "timestep: 7, spot price: 453.41, account: ${'dol': 995474.0, 'eth': 10, 'net': 1000008.1}\n",
      "timestep: 8, spot price: 453.48, account: ${'dol': 995474.0, 'eth': 10, 'net': 1000008.8}\n",
      "timestep: 9, spot price: 453.03, account: ${'dol': 990943.7, 'eth': 20, 'net': 1000004.2999999999}\n",
      "timestep: 10, spot price: 453.03, account: ${'dol': 990943.7, 'eth': 20, 'net': 1000004.2999999999}\n",
      "timestep: 11, spot price: 453.41, account: ${'dol': 995477.7999999999, 'eth': 10, 'net': 1000011.8999999999}\n",
      "timestep: 12, spot price: 453.2, account: ${'dol': 990945.7999999999, 'eth': 20, 'net': 1000009.7999999999}\n",
      "timestep: 13, spot price: 453.37, account: ${'dol': 995479.4999999999, 'eth': 10, 'net': 1000013.1999999998}\n",
      "timestep: 14, spot price: 454.37, account: ${'dol': 995479.4999999999, 'eth': 10, 'net': 1000023.1999999998}\n",
      "timestep: 15, spot price: 453.55, account: ${'dol': 990943.9999999999, 'eth': 20, 'net': 1000014.9999999999}\n",
      "timestep: 16, spot price: 453.55, account: ${'dol': 990943.9999999999, 'eth': 20, 'net': 1000014.9999999999}\n"
     ]
    },
    {
     "ename": "KeyboardInterrupt",
     "evalue": "",
     "output_type": "error",
     "traceback": [
      "\u001b[0;31m---------------------------------------------------------------------------\u001b[0m",
      "\u001b[0;31mKeyboardInterrupt\u001b[0m                         Traceback (most recent call last)",
      "\u001b[0;32m<ipython-input-27-7ee4d8577b54>\u001b[0m in \u001b[0;36m<module>\u001b[0;34m()\u001b[0m\n\u001b[1;32m     22\u001b[0m     \u001b[0mlast\u001b[0m \u001b[0;34m=\u001b[0m \u001b[0mcurr_price\u001b[0m\u001b[0;34m\u001b[0m\u001b[0m\n\u001b[1;32m     23\u001b[0m     \u001b[0mt\u001b[0m \u001b[0;34m+=\u001b[0m \u001b[0;36m1\u001b[0m\u001b[0;34m\u001b[0m\u001b[0m\n\u001b[0;32m---> 24\u001b[0;31m     \u001b[0msleep\u001b[0m\u001b[0;34m(\u001b[0m\u001b[0;36m60\u001b[0m\u001b[0;34m)\u001b[0m\u001b[0;34m\u001b[0m\u001b[0m\n\u001b[0m",
      "\u001b[0;31mKeyboardInterrupt\u001b[0m: "
     ]
    }
   ],
   "source": [
    "t = 1\n",
    "act = {'dol': 10**6, 'eth': 0, 'net': 0}\n",
    "unit = 10\n",
    "thres = 0.1\n",
    "last = 0\n",
    "\n",
    "while True:\n",
    "    res = client.get_spot_price(currency_pair = 'ETH-USD')\n",
    "    data = json.loads(str(res))\n",
    "    \n",
    "    curr_price = float(data['amount'])\n",
    "    # buy\n",
    "    if curr_price + thres < last and act['dol'] > unit * curr_price:\n",
    "        act['dol'] -= curr_price * unit\n",
    "        act['eth'] += unit\n",
    "    \n",
    "    # sell\n",
    "    if curr_price - thres > last and act['eth'] > unit:\n",
    "        act['dol'] += curr_price * unit\n",
    "        act['eth'] -= unit\n",
    "        \n",
    "    # update total net worth\n",
    "    act['net'] = act['dol'] + act['eth'] * curr_price\n",
    "    print(f'timestep: {t}, spot price: {curr_price}, account: ${act}')\n",
    "    last = curr_price\n",
    "    t += 1\n",
    "    sleep(60)"
   ]
  },
  {
   "cell_type": "markdown",
   "metadata": {},
   "source": [
    "Okay, after that very limited test, it APPEARS that the algorithm is making money.  However, the version used above is incredibly simple.\n",
    "\n",
    "It doesn't take into account fees at all.  It also isn't fully executing a momentum strategy.  The unit of purchase should actually vary according to how much the price has changed between each time step.  Let's try to add both of those factors now.\n",
    "\n",
    "First, let's add fee's.  To get results faster, I'll lower the threshold and make things more fun."
   ]
  },
  {
   "cell_type": "code",
   "execution_count": 35,
   "metadata": {},
   "outputs": [
    {
     "name": "stdout",
     "output_type": "stream",
     "text": [
      "timestep: 1, spot price: $452.70, account: ${'dol': 1000000, 'eth': 0, 'net': 1000000.0}\n",
      "$0.00\n",
      "timestep: 2, spot price: $452.70, account: ${'dol': 1000000, 'eth': 0, 'net': 1000000.0}\n",
      "$0.00\n",
      "timestep: 3, spot price: $452.70, account: ${'dol': 1000000, 'eth': 0, 'net': 1000000.0}\n",
      "$0.00\n",
      "timestep: 4, spot price: $452.70, account: ${'dol': 1000000, 'eth': 0, 'net': 1000000.0}\n",
      "$0.00\n",
      "timestep: 5, spot price: $452.70, account: ${'dol': 1000000, 'eth': 0, 'net': 1000000.0}\n",
      "$0.00\n"
     ]
    },
    {
     "ename": "KeyboardInterrupt",
     "evalue": "",
     "output_type": "error",
     "traceback": [
      "\u001b[0;31m---------------------------------------------------------------------------\u001b[0m",
      "\u001b[0;31mKeyboardInterrupt\u001b[0m                         Traceback (most recent call last)",
      "\u001b[0;32m<ipython-input-35-2e7f5c41ca8e>\u001b[0m in \u001b[0;36m<module>\u001b[0;34m()\u001b[0m\n\u001b[1;32m     31\u001b[0m     \u001b[0mlast\u001b[0m \u001b[0;34m=\u001b[0m \u001b[0mcurr_price\u001b[0m\u001b[0;34m\u001b[0m\u001b[0m\n\u001b[1;32m     32\u001b[0m     \u001b[0mt\u001b[0m \u001b[0;34m+=\u001b[0m \u001b[0;36m1\u001b[0m\u001b[0;34m\u001b[0m\u001b[0m\n\u001b[0;32m---> 33\u001b[0;31m     \u001b[0msleep\u001b[0m\u001b[0;34m(\u001b[0m\u001b[0;36m60\u001b[0m\u001b[0;34m)\u001b[0m\u001b[0;34m\u001b[0m\u001b[0m\n\u001b[0m",
      "\u001b[0;31mKeyboardInterrupt\u001b[0m: "
     ]
    }
   ],
   "source": [
    "t = 1\n",
    "start_val = 10**6\n",
    "act = {'dol': start_val, 'eth': 0, 'net': 0}\n",
    "unit = 100\n",
    "thres = 0.1 # 10 cent XD\n",
    "last = 0\n",
    "fee_pc = 0.0025\n",
    "\n",
    "while True:\n",
    "    res = client.get_spot_price(currency_pair = 'ETH-USD')\n",
    "    data = json.loads(str(res))\n",
    "    \n",
    "    curr_price = float(data['amount'])\n",
    "    coin_num = unit\n",
    "    order_amount = curr_price * coin_num\n",
    "    order_tot = order_amount * (1+fee_pc)\n",
    "    # buy\n",
    "    if curr_price + thres < last and act['dol'] > order_tot:\n",
    "        act['dol'] -= order_tot\n",
    "        act['eth'] += coin_num\n",
    "    \n",
    "    # sell\n",
    "    if curr_price - thres > last and act['eth'] > coin_num:\n",
    "        act['dol'] += order_amount *(1-fee_pc)\n",
    "        act['eth'] -= coin_num\n",
    "        \n",
    "    # update total net worth\n",
    "    act['net'] = act['dol'] + act['eth'] * curr_price\n",
    "    print(f'timestep: {t}, spot price: ${curr_price:,.2f}, account: ${act}')\n",
    "    print(f\"${float(act['net'])-start_val:,.2f}\")\n",
    "    last = curr_price\n",
    "    t += 1\n",
    "    sleep(60)"
   ]
  },
  {
   "cell_type": "markdown",
   "metadata": {},
   "source": [
    "Ouch! Once we added fees, things went really badly. After 72 timesteps, we were at $-2,014.43.  I need to think more carefully about how to leverage the properites unique to this time series.\n",
    "\n",
    "Maybe I could also try training models on this data?"
   ]
  },
  {
   "cell_type": "code",
   "execution_count": 36,
   "metadata": {},
   "outputs": [
    {
     "name": "stdout",
     "output_type": "stream",
     "text": [
      "timestep: 1, spot price: $452.86, account: ${'dol': 818176.7100000001, 'eth': 400, 'net': 999320.7100000001}\n",
      "$-679.29\n",
      "timestep: 2, spot price: $452.98, account: ${'dol': 863361.4650000001, 'eth': 300, 'net': 999255.4650000001}\n",
      "$-744.53\n",
      "timestep: 3, spot price: $452.83, account: ${'dol': 817965.2575000001, 'eth': 400, 'net': 999097.2575000001}\n",
      "$-902.74\n",
      "timestep: 4, spot price: $453.37, account: ${'dol': 863188.915, 'eth': 300, 'net': 999199.915}\n",
      "$-800.08\n",
      "timestep: 5, spot price: $453.37, account: ${'dol': 863188.915, 'eth': 300, 'net': 999199.915}\n",
      "$-800.08\n",
      "timestep: 6, spot price: $453.07, account: ${'dol': 817768.6475000001, 'eth': 400, 'net': 998996.6475000001}\n",
      "$-1,003.35\n"
     ]
    },
    {
     "ename": "KeyboardInterrupt",
     "evalue": "",
     "output_type": "error",
     "traceback": [
      "\u001b[0;31m---------------------------------------------------------------------------\u001b[0m",
      "\u001b[0;31mKeyboardInterrupt\u001b[0m                         Traceback (most recent call last)",
      "\u001b[0;32m<ipython-input-36-93d6af05ffbd>\u001b[0m in \u001b[0;36m<module>\u001b[0;34m()\u001b[0m\n\u001b[1;32m     41\u001b[0m     \u001b[0mlast\u001b[0m \u001b[0;34m=\u001b[0m \u001b[0mcurr_price\u001b[0m\u001b[0;34m\u001b[0m\u001b[0m\n\u001b[1;32m     42\u001b[0m     \u001b[0mt\u001b[0m \u001b[0;34m+=\u001b[0m \u001b[0;36m1\u001b[0m\u001b[0;34m\u001b[0m\u001b[0m\n\u001b[0;32m---> 43\u001b[0;31m     \u001b[0msleep\u001b[0m\u001b[0;34m(\u001b[0m\u001b[0;36m60\u001b[0m\u001b[0;34m)\u001b[0m\u001b[0;34m\u001b[0m\u001b[0m\n\u001b[0m",
      "\u001b[0;31mKeyboardInterrupt\u001b[0m: "
     ]
    }
   ],
   "source": [
    "t = 1\n",
    "start_val = 10**6\n",
    "act = {'dol': start_val, 'eth': 0, 'net': 0}\n",
    "unit = 100\n",
    "thres = 0.1 # 10 cent XD\n",
    "last = 0\n",
    "fee_pc = 0.0025\n",
    "\n",
    "# initial purchase\n",
    "res = client.get_spot_price(currency_pair = 'ETH-USD')\n",
    "data = json.loads(str(res))\n",
    "curr_price = float(data['amount'])\n",
    "coin_num = unit*5\n",
    "order_amount = curr_price * coin_num\n",
    "order_tot = order_amount * (1+fee_pc)\n",
    "act['dol'] -= order_tot\n",
    "act['eth'] += coin_num\n",
    "\n",
    "while True:\n",
    "    res = client.get_spot_price(currency_pair = 'ETH-USD')\n",
    "    data = json.loads(str(res))\n",
    "    \n",
    "    curr_price = float(data['amount'])\n",
    "    coin_num = unit\n",
    "    order_amount = curr_price * coin_num\n",
    "    order_tot = order_amount * (1+fee_pc)\n",
    "    # buy\n",
    "    if curr_price + thres < last and act['dol'] > order_tot:\n",
    "        act['dol'] -= order_tot\n",
    "        act['eth'] += coin_num\n",
    "    \n",
    "    # sell\n",
    "    if curr_price - thres > last and act['eth'] > coin_num:\n",
    "        act['dol'] += order_amount *(1-fee_pc)\n",
    "        act['eth'] -= coin_num\n",
    "        \n",
    "    # update total net worth\n",
    "    act['net'] = act['dol'] + act['eth'] * curr_price\n",
    "    print(f'timestep: {t}, spot price: ${curr_price:,.2f}, account: ${act}')\n",
    "    print(f\"${float(act['net'])-start_val:,.2f}\")\n",
    "    last = curr_price\n",
    "    t += 1\n",
    "    sleep(60)"
   ]
  },
  {
   "cell_type": "markdown",
   "metadata": {},
   "source": [
    "Hasn't run for very long, but we're already pretty deeply in the red.\n",
    "\n",
    "One pretty obvious update I haven't made yet: I should make the threshold a percentage of the price rather than a fix number.  In fact, I should make it so that I never trade when the gain is less than the fee."
   ]
  },
  {
   "cell_type": "code",
   "execution_count": 38,
   "metadata": {},
   "outputs": [
    {
     "name": "stdout",
     "output_type": "stream",
     "text": [
      "timestep: 1, spot price: $453.86, account: ${'dol': 817775.2100000001, 'eth': 400, 'net': 999319.2100000001}\n",
      "$-680.79\n",
      "threshold: $2.27\n",
      "timestep: 2, spot price: $453.86, account: ${'dol': 817775.2100000001, 'eth': 400, 'net': 999319.2100000001}\n",
      "$-680.79\n",
      "threshold: $2.27\n",
      "timestep: 3, spot price: $453.86, account: ${'dol': 817775.2100000001, 'eth': 400, 'net': 999319.2100000001}\n",
      "$-680.79\n",
      "threshold: $2.27\n",
      "timestep: 4, spot price: $453.28, account: ${'dol': 817775.2100000001, 'eth': 400, 'net': 999087.2100000001}\n",
      "$-912.79\n",
      "threshold: $2.27\n",
      "timestep: 5, spot price: $452.89, account: ${'dol': 817775.2100000001, 'eth': 400, 'net': 998931.2100000001}\n",
      "$-1,068.79\n",
      "threshold: $2.26\n",
      "timestep: 6, spot price: $452.82, account: ${'dol': 817775.2100000001, 'eth': 400, 'net': 998903.2100000001}\n",
      "$-1,096.79\n",
      "threshold: $2.26\n",
      "timestep: 7, spot price: $452.92, account: ${'dol': 817775.2100000001, 'eth': 400, 'net': 998943.2100000001}\n",
      "$-1,056.79\n",
      "threshold: $2.26\n",
      "timestep: 8, spot price: $452.69, account: ${'dol': 817775.2100000001, 'eth': 400, 'net': 998851.2100000001}\n",
      "$-1,148.79\n",
      "threshold: $2.26\n",
      "timestep: 9, spot price: $452.69, account: ${'dol': 817775.2100000001, 'eth': 400, 'net': 998851.2100000001}\n",
      "$-1,148.79\n",
      "threshold: $2.26\n",
      "timestep: 10, spot price: $452.70, account: ${'dol': 817775.2100000001, 'eth': 400, 'net': 998855.2100000001}\n",
      "$-1,144.79\n",
      "threshold: $2.26\n",
      "timestep: 11, spot price: $452.70, account: ${'dol': 817775.2100000001, 'eth': 400, 'net': 998855.2100000001}\n",
      "$-1,144.79\n",
      "threshold: $2.26\n",
      "timestep: 12, spot price: $452.70, account: ${'dol': 817775.2100000001, 'eth': 400, 'net': 998855.2100000001}\n",
      "$-1,144.79\n",
      "threshold: $2.26\n",
      "timestep: 13, spot price: $452.70, account: ${'dol': 817775.2100000001, 'eth': 400, 'net': 998855.2100000001}\n",
      "$-1,144.79\n",
      "threshold: $2.26\n",
      "timestep: 14, spot price: $452.70, account: ${'dol': 817775.2100000001, 'eth': 400, 'net': 998855.2100000001}\n",
      "$-1,144.79\n",
      "threshold: $2.26\n",
      "timestep: 15, spot price: $452.70, account: ${'dol': 817775.2100000001, 'eth': 400, 'net': 998855.2100000001}\n",
      "$-1,144.79\n",
      "threshold: $2.26\n",
      "timestep: 16, spot price: $452.96, account: ${'dol': 817775.2100000001, 'eth': 400, 'net': 998959.2100000001}\n",
      "$-1,040.79\n",
      "threshold: $2.26\n",
      "timestep: 17, spot price: $452.96, account: ${'dol': 817775.2100000001, 'eth': 400, 'net': 998959.2100000001}\n",
      "$-1,040.79\n",
      "threshold: $2.26\n",
      "timestep: 18, spot price: $452.86, account: ${'dol': 817775.2100000001, 'eth': 400, 'net': 998919.2100000001}\n",
      "$-1,080.79\n",
      "threshold: $2.26\n",
      "timestep: 19, spot price: $452.88, account: ${'dol': 817775.2100000001, 'eth': 400, 'net': 998927.2100000001}\n",
      "$-1,072.79\n",
      "threshold: $2.26\n",
      "timestep: 20, spot price: $452.92, account: ${'dol': 817775.2100000001, 'eth': 400, 'net': 998943.2100000001}\n",
      "$-1,056.79\n",
      "threshold: $2.26\n",
      "timestep: 21, spot price: $452.88, account: ${'dol': 817775.2100000001, 'eth': 400, 'net': 998927.2100000001}\n",
      "$-1,072.79\n",
      "threshold: $2.26\n",
      "timestep: 22, spot price: $453.00, account: ${'dol': 817775.2100000001, 'eth': 400, 'net': 998975.2100000001}\n",
      "$-1,024.79\n",
      "threshold: $2.27\n",
      "timestep: 23, spot price: $452.87, account: ${'dol': 817775.2100000001, 'eth': 400, 'net': 998923.2100000001}\n",
      "$-1,076.79\n",
      "threshold: $2.26\n",
      "timestep: 24, spot price: $453.00, account: ${'dol': 817775.2100000001, 'eth': 400, 'net': 998975.2100000001}\n",
      "$-1,024.79\n",
      "threshold: $2.27\n",
      "timestep: 25, spot price: $453.00, account: ${'dol': 817775.2100000001, 'eth': 400, 'net': 998975.2100000001}\n",
      "$-1,024.79\n",
      "threshold: $2.27\n",
      "timestep: 26, spot price: $453.00, account: ${'dol': 817775.2100000001, 'eth': 400, 'net': 998975.2100000001}\n",
      "$-1,024.79\n",
      "threshold: $2.27\n",
      "timestep: 27, spot price: $453.00, account: ${'dol': 817775.2100000001, 'eth': 400, 'net': 998975.2100000001}\n",
      "$-1,024.79\n",
      "threshold: $2.27\n",
      "timestep: 28, spot price: $453.00, account: ${'dol': 817775.2100000001, 'eth': 400, 'net': 998975.2100000001}\n",
      "$-1,024.79\n",
      "threshold: $2.27\n",
      "timestep: 29, spot price: $453.86, account: ${'dol': 817775.2100000001, 'eth': 400, 'net': 999319.2100000001}\n",
      "$-680.79\n",
      "threshold: $2.27\n"
     ]
    },
    {
     "ename": "KeyboardInterrupt",
     "evalue": "",
     "output_type": "error",
     "traceback": [
      "\u001b[0;31m---------------------------------------------------------------------------\u001b[0m",
      "\u001b[0;31mKeyboardInterrupt\u001b[0m                         Traceback (most recent call last)",
      "\u001b[0;32m<ipython-input-38-8d9e9d0744ae>\u001b[0m in \u001b[0;36m<module>\u001b[0;34m()\u001b[0m\n\u001b[1;32m     47\u001b[0m     \u001b[0mlast\u001b[0m \u001b[0;34m=\u001b[0m \u001b[0mcurr_price\u001b[0m\u001b[0;34m\u001b[0m\u001b[0m\n\u001b[1;32m     48\u001b[0m     \u001b[0mt\u001b[0m \u001b[0;34m+=\u001b[0m \u001b[0;36m1\u001b[0m\u001b[0;34m\u001b[0m\u001b[0m\n\u001b[0;32m---> 49\u001b[0;31m     \u001b[0msleep\u001b[0m\u001b[0;34m(\u001b[0m\u001b[0;36m60\u001b[0m\u001b[0;34m)\u001b[0m\u001b[0;34m\u001b[0m\u001b[0m\n\u001b[0m",
      "\u001b[0;31mKeyboardInterrupt\u001b[0m: "
     ]
    }
   ],
   "source": [
    "# run parameters\n",
    "t = 1\n",
    "start_val = 10**6\n",
    "act = {'dol': start_val, 'eth': 0, 'net': 0}\n",
    "unit = 100\n",
    "thres = 0.1 # 10 cent XD\n",
    "last = 0\n",
    "fee_pc = 0.0025\n",
    "spread = 0.0025\n",
    "\n",
    "# initial purchase\n",
    "res = client.get_spot_price(currency_pair = 'ETH-USD')\n",
    "data = json.loads(str(res))\n",
    "curr_price = float(data['amount'])\n",
    "coin_num = unit*5\n",
    "order_amount = curr_price * coin_num\n",
    "order_tot = order_amount * (1+fee_pc)\n",
    "act['dol'] -= order_tot\n",
    "act['eth'] += coin_num\n",
    "\n",
    "while True:\n",
    "    res = client.get_spot_price(currency_pair = 'ETH-USD')\n",
    "    data = json.loads(str(res))\n",
    "    \n",
    "    curr_price = float(data['amount'])\n",
    "    coin_num = unit\n",
    "    order_amount = curr_price * coin_num\n",
    "    order_tot = order_amount * (1+fee_pc)\n",
    "    \n",
    "    thres = curr_price * (fee_pc + spread)\n",
    "    \n",
    "    # buy\n",
    "    if curr_price + thres < last and act['dol'] > order_tot:\n",
    "        act['dol'] -= order_tot\n",
    "        act['eth'] += coin_num\n",
    "    \n",
    "    # sell\n",
    "    if curr_price - thres > last and act['eth'] > coin_num:\n",
    "        act['dol'] += order_amount *(1-fee_pc)\n",
    "        act['eth'] -= coin_num\n",
    "        \n",
    "    # update total net worth\n",
    "    act['net'] = act['dol'] + act['eth'] * curr_price\n",
    "    print(f'timestep: {t}, spot price: ${curr_price:,.2f}, account: ${act}')\n",
    "    print(f\"${float(act['net'])-start_val:,.2f}\")\n",
    "    print(f'threshold: ${thres:,.2f}')\n",
    "    last = curr_price\n",
    "    t += 1\n",
    "    sleep(60)"
   ]
  },
  {
   "cell_type": "markdown",
   "metadata": {},
   "source": [
    "I also want to add a moving average component."
   ]
  },
  {
   "cell_type": "code",
   "execution_count": null,
   "metadata": {},
   "outputs": [
    {
     "name": "stdout",
     "output_type": "stream",
     "text": [
      "timestep: 1, spot price: $453.60, account: ${'dol': 1000000, 'eth': 0, 'net': 1000000.0}\n",
      "Profit: $0.00, 0.00%\n",
      "threshold: $1.18\n",
      "target price: $453.60\n",
      "spread: $0.00\n"
     ]
    }
   ],
   "source": [
    "# environment setup\n",
    "t = 1\n",
    "start_val = 10**6\n",
    "act = {'dol': start_val, 'eth': 0, 'net': 0}\n",
    "unit = 100\n",
    "last = 0\n",
    "fee_pc = 0.0025\n",
    "\n",
    "# run params\n",
    "thres = 0.1\n",
    "spread = 0.0001\n",
    "tdelta = 25\n",
    "\n",
    "\n",
    "prices =[]\n",
    "\n",
    "# initial purchase\n",
    "res = client.get_spot_price(currency_pair = 'ETH-USD')\n",
    "data = json.loads(str(res))\n",
    "curr_price = float(data['amount'])\n",
    "prices.append(curr_price)\n",
    "coin_num = unit*5\n",
    "order_amount = curr_price * coin_num\n",
    "order_tot = order_amount * (1+fee_pc)\n",
    "#act['dol'] -= order_tot\n",
    "#act['eth'] += coin_num\n",
    "\n",
    "while True:\n",
    "    res = client.get_spot_price(currency_pair = 'ETH-USD')\n",
    "    data = json.loads(str(res))\n",
    "    \n",
    "    curr_price = float(data['amount'])\n",
    "    prices.append(curr_price)\n",
    "    coin_num = unit\n",
    "    order_amount = curr_price * coin_num\n",
    "    order_tot = order_amount * (1+fee_pc)\n",
    "    \n",
    "    thres = curr_price * (fee_pc + spread)\n",
    "    \n",
    "    if t < tdelta:\n",
    "        target_price = curr_price\n",
    "    else:\n",
    "        target_price = np.average(prices[t-tdelta:t])\n",
    "    \n",
    "    # buy\n",
    "    if target_price - thres > curr_price and act['dol'] > order_tot:\n",
    "        act['dol'] -= order_tot\n",
    "        act['eth'] += coin_num\n",
    "    \n",
    "    # sell\n",
    "    if target_price + thres < curr_price and act['eth'] > coin_num:\n",
    "        act['dol'] += order_amount *(1-fee_pc)\n",
    "        act['eth'] -= coin_num\n",
    "        \n",
    "    # update total net worth\n",
    "    act['net'] = act['dol'] + act['eth'] * curr_price\n",
    "    print(f'timestep: {t}, spot price: ${curr_price:,.2f}, account: ${act}')\n",
    "    print(f\"Profit: ${float(act['net'])-start_val:,.2f}, {(float(act['net'])-start_val)/start_val:,.2f}%\")\n",
    "    print(f'threshold: ${thres:,.2f}')\n",
    "    print(f'target price: ${target_price:,.2f}')\n",
    "    print(f'spread: ${curr_price-target_price:,.2f}')\n",
    "    last = curr_price\n",
    "    t += 1\n",
    "    sleep(30)"
   ]
  },
  {
   "cell_type": "markdown",
   "metadata": {},
   "source": [
    "Okay, so at this point, the simulation is going to take a while to return any definitive results.  I really need to get that backtesting data back online.  There are definitely more aspects I can add to my trading model.  I also need to more track of what's going on, like how much I paid for my coins and how much I've paid in fees.\n",
    "\n",
    "Might also want to print out the spread between the target and spot price.\n",
    "\n",
    "Can rounding have any effect in this simulation?\n",
    "\n",
    "Is my algo working right? Looks like it's reacting in the opposite way. Also the comparision should be against curr, not last.\n",
    "\n",
    "I should really create a way to access the full transaction history too."
   ]
  },
  {
   "cell_type": "code",
   "execution_count": null,
   "metadata": {},
   "outputs": [],
   "source": []
  }
 ],
 "metadata": {
  "kernelspec": {
   "display_name": "Python 3",
   "language": "python",
   "name": "python3"
  },
  "language_info": {
   "codemirror_mode": {
    "name": "ipython",
    "version": 3
   },
   "file_extension": ".py",
   "mimetype": "text/x-python",
   "name": "python",
   "nbconvert_exporter": "python",
   "pygments_lexer": "ipython3",
   "version": "3.6.5"
  }
 },
 "nbformat": 4,
 "nbformat_minor": 2
}
